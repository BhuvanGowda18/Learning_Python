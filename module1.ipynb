{
  "nbformat": 4,
  "nbformat_minor": 0,
  "metadata": {
    "colab": {
      "name": "module1",
      "provenance": [],
      "collapsed_sections": [],
      "include_colab_link": true
    },
    "kernelspec": {
      "name": "python3",
      "display_name": "Python 3"
    }
  },
  "cells": [
    {
      "cell_type": "markdown",
      "metadata": {
        "id": "view-in-github",
        "colab_type": "text"
      },
      "source": [
        "<a href=\"https://colab.research.google.com/github/BhuvanGowda18/Learning_Python/blob/main/module1.ipynb\" target=\"_parent\"><img src=\"https://colab.research.google.com/assets/colab-badge.svg\" alt=\"Open In Colab\"/></a>"
      ]
    },
    {
      "cell_type": "code",
      "metadata": {
        "id": "PhGNjsPoqO1W",
        "colab": {
          "base_uri": "https://localhost:8080/",
          "height": 34
        },
        "outputId": "45d3fefc-7c33-4f99-9054-d4c971b3b255"
      },
      "source": [
        "print(\"lets go\")"
      ],
      "execution_count": null,
      "outputs": [
        {
          "output_type": "stream",
          "text": [
            "lets go\n"
          ],
          "name": "stdout"
        }
      ]
    },
    {
      "cell_type": "code",
      "metadata": {
        "id": "Brh5zIl2qOlE",
        "colab": {
          "base_uri": "https://localhost:8080/"
        },
        "outputId": "51172d23-335a-42cc-e620-7013cdebfad7"
      },
      "source": [
        "print(1/5)"
      ],
      "execution_count": null,
      "outputs": [
        {
          "output_type": "stream",
          "text": [
            "0.2\n"
          ],
          "name": "stdout"
        }
      ]
    },
    {
      "cell_type": "code",
      "metadata": {
        "id": "RINE_JSoqOi_",
        "colab": {
          "base_uri": "https://localhost:8080/",
          "height": 34
        },
        "outputId": "81ceff1d-5610-4abf-fc91-99caaec2f6f6"
      },
      "source": [
        "print(format(1/5,'.4f'))"
      ],
      "execution_count": null,
      "outputs": [
        {
          "output_type": "stream",
          "text": [
            "0.2000\n"
          ],
          "name": "stdout"
        }
      ]
    },
    {
      "cell_type": "code",
      "metadata": {
        "id": "2lR1dfykqOXj",
        "colab": {
          "base_uri": "https://localhost:8080/"
        },
        "outputId": "1d8e8b23-b3f9-4813-8ce7-e867742148a7"
      },
      "source": [
        "print(format(1/3,'.3f'))"
      ],
      "execution_count": null,
      "outputs": [
        {
          "output_type": "stream",
          "text": [
            "0.333\n"
          ],
          "name": "stdout"
        }
      ]
    },
    {
      "cell_type": "code",
      "metadata": {
        "id": "gVT-KE-ppfio",
        "colab": {
          "base_uri": "https://localhost:8080/"
        },
        "outputId": "fca3319a-a435-4bc0-cb8d-3aeb49228f35"
      },
      "source": [
        "print(ord('d'))"
      ],
      "execution_count": null,
      "outputs": [
        {
          "output_type": "stream",
          "text": [
            "100\n"
          ],
          "name": "stdout"
        }
      ]
    },
    {
      "cell_type": "code",
      "metadata": {
        "id": "CjUHgSSfpfgp",
        "colab": {
          "base_uri": "https://localhost:8080/"
        },
        "outputId": "8999ab27-a4ab-42f9-ce04-a7a08354025d"
      },
      "source": [
        "print(chr(67))"
      ],
      "execution_count": null,
      "outputs": [
        {
          "output_type": "stream",
          "text": [
            "C\n"
          ],
          "name": "stdout"
        }
      ]
    },
    {
      "cell_type": "code",
      "metadata": {
        "id": "FKD_KXWxpfeT",
        "colab": {
          "base_uri": "https://localhost:8080/",
          "height": 34
        },
        "outputId": "997f071a-9d79-4356-b9a2-f58d792da66e"
      },
      "source": [
        "ord('A')"
      ],
      "execution_count": null,
      "outputs": [
        {
          "output_type": "execute_result",
          "data": {
            "text/plain": [
              "65"
            ]
          },
          "metadata": {
            "tags": []
          },
          "execution_count": 46
        }
      ]
    },
    {
      "cell_type": "code",
      "metadata": {
        "id": "AbvTRowbpfcT",
        "colab": {
          "base_uri": "https://localhost:8080/",
          "height": 34
        },
        "outputId": "9f4bae46-ab52-405e-97cd-52ae3536625b"
      },
      "source": [
        "print(\"hello\",\">20\")"
      ],
      "execution_count": null,
      "outputs": [
        {
          "output_type": "stream",
          "text": [
            "hello >20\n"
          ],
          "name": "stdout"
        }
      ]
    },
    {
      "cell_type": "code",
      "metadata": {
        "id": "sBE0F2HhpfOS",
        "colab": {
          "base_uri": "https://localhost:8080/",
          "height": 51
        },
        "outputId": "eedcb437-c0b5-42ad-eeef-f22553cd64fb"
      },
      "source": [
        "print(\"apple\\norange\")"
      ],
      "execution_count": null,
      "outputs": [
        {
          "output_type": "stream",
          "text": [
            "apple\n",
            "orange\n"
          ],
          "name": "stdout"
        }
      ]
    },
    {
      "cell_type": "code",
      "metadata": {
        "id": "JtvwRVdspHii",
        "colab": {
          "base_uri": "https://localhost:8080/"
        },
        "outputId": "cf22ca7c-832b-47a4-d547-722b49f04458"
      },
      "source": [
        "print(\"1\\n 2\\n 3\\n\")"
      ],
      "execution_count": null,
      "outputs": [
        {
          "output_type": "stream",
          "text": [
            "1\n",
            " 2\n",
            " 3\n",
            "\n"
          ],
          "name": "stdout"
        }
      ]
    },
    {
      "cell_type": "code",
      "metadata": {
        "id": "-0DzsToopGvW",
        "colab": {
          "base_uri": "https://localhost:8080/"
        },
        "outputId": "6b1cac61-1410-46de-8968-54f55f3860e1"
      },
      "source": [
        "print(\"\\n hello world\")"
      ],
      "execution_count": null,
      "outputs": [
        {
          "output_type": "stream",
          "text": [
            "\n",
            " hello world\n"
          ],
          "name": "stdout"
        }
      ]
    },
    {
      "cell_type": "code",
      "metadata": {
        "id": "dEQkIDfvpGs1",
        "colab": {
          "base_uri": "https://localhost:8080/",
          "height": 68
        },
        "outputId": "ad31e478-b40b-47d4-feb5-8313a5b59f23"
      },
      "source": [
        "print(\"hello world\\n\\n\")"
      ],
      "execution_count": null,
      "outputs": [
        {
          "output_type": "stream",
          "text": [
            "hello world\n",
            "\n",
            "\n"
          ],
          "name": "stdout"
        }
      ]
    },
    {
      "cell_type": "code",
      "metadata": {
        "id": "lj_zCaVNpGqN",
        "colab": {
          "base_uri": "https://localhost:8080/",
          "height": 35
        },
        "outputId": "cbeb3e4a-abab-4ee4-9a5f-3c6e23ee7372"
      },
      "source": [
        "format(\"h\",\">2\")"
      ],
      "execution_count": null,
      "outputs": [
        {
          "output_type": "execute_result",
          "data": {
            "application/vnd.google.colaboratory.intrinsic+json": {
              "type": "string"
            },
            "text/plain": [
              "' h'"
            ]
          },
          "metadata": {
            "tags": []
          },
          "execution_count": 48
        }
      ]
    },
    {
      "cell_type": "code",
      "metadata": {
        "id": "9c7R_iXipGne",
        "colab": {
          "base_uri": "https://localhost:8080/",
          "height": 35
        },
        "outputId": "9b7e0668-9391-420d-eb91-0b24340495d3"
      },
      "source": [
        "format(\"hello\",\"^20\")"
      ],
      "execution_count": null,
      "outputs": [
        {
          "output_type": "execute_result",
          "data": {
            "application/vnd.google.colaboratory.intrinsic+json": {
              "type": "string"
            },
            "text/plain": [
              "'       hello        '"
            ]
          },
          "metadata": {
            "tags": []
          },
          "execution_count": 58
        }
      ]
    },
    {
      "cell_type": "code",
      "metadata": {
        "id": "dvta79zqop9g",
        "colab": {
          "base_uri": "https://localhost:8080/",
          "height": 35
        },
        "outputId": "a3b1abdd-38d9-486d-8011-a947842cce23"
      },
      "source": [
        "format(\"hello\",\">20\")"
      ],
      "execution_count": null,
      "outputs": [
        {
          "output_type": "execute_result",
          "data": {
            "application/vnd.google.colaboratory.intrinsic+json": {
              "type": "string"
            },
            "text/plain": [
              "'               hello'"
            ]
          },
          "metadata": {
            "tags": []
          },
          "execution_count": 63
        }
      ]
    },
    {
      "cell_type": "code",
      "metadata": {
        "id": "arIAgzWeop5I",
        "colab": {
          "base_uri": "https://localhost:8080/",
          "height": 34
        },
        "outputId": "708f6fb8-d602-4740-da87-92151ef659d6"
      },
      "source": [
        "a=200\n",
        "b=23\n",
        "if a>b:\n",
        " print(\"a is greater than b\")\n",
        "else:\n",
        "  print(\"b is greater than a\")"
      ],
      "execution_count": null,
      "outputs": [
        {
          "output_type": "stream",
          "text": [
            "a is greater than b\n"
          ],
          "name": "stdout"
        }
      ]
    },
    {
      "cell_type": "code",
      "metadata": {
        "id": "gSErMEbpop3Y",
        "colab": {
          "base_uri": "https://localhost:8080/"
        },
        "outputId": "197d5441-dd2f-438f-fe30-2a498c0d5450"
      },
      "source": [
        "a=int(input('value of a '))\n",
        "\n",
        "b=int(input('value of b '))\n",
        "\n",
        "c=int(input('value of c '))\n",
        "\n",
        "\n",
        "s=a+b+c\n",
        "print(s)"
      ],
      "execution_count": null,
      "outputs": [
        {
          "output_type": "stream",
          "text": [
            "value of a 4\n",
            "value of b 5\n",
            "value of c 6\n",
            "15\n"
          ],
          "name": "stdout"
        }
      ]
    },
    {
      "cell_type": "code",
      "metadata": {
        "id": "6WZVmigfops3",
        "colab": {
          "base_uri": "https://localhost:8080/",
          "height": 51
        },
        "outputId": "1dc9bc3b-2fa9-4954-a784-97716ef29ee7"
      },
      "source": [
        "t=int(input('what is the temperature'))\n",
        "t\n",
        "temp=(t*9/5)+32\n",
        "print(temp)\n",
        "\n"
      ],
      "execution_count": null,
      "outputs": [
        {
          "output_type": "stream",
          "text": [
            "what is the temperature35\n",
            "95.0\n"
          ],
          "name": "stdout"
        }
      ]
    },
    {
      "cell_type": "code",
      "metadata": {
        "id": "OEIPzxikoTdQ",
        "colab": {
          "base_uri": "https://localhost:8080/"
        },
        "outputId": "c6d5d9fd-8a9e-4607-f764-b5d61b248494"
      },
      "source": [
        "a=b=c=1\n",
        "a,b,c=1,2,\"john\"\n",
        "print(c)"
      ],
      "execution_count": null,
      "outputs": [
        {
          "output_type": "stream",
          "text": [
            "john\n"
          ],
          "name": "stdout"
        }
      ]
    },
    {
      "cell_type": "code",
      "metadata": {
        "id": "yKHt7xcuoTbV",
        "colab": {
          "base_uri": "https://localhost:8080/",
          "height": 34
        },
        "outputId": "b1f5aed9-f65b-4a8d-e3f8-9b9ae169a2e6"
      },
      "source": [
        "x1,y1=2,3\n",
        "x2,y2=6,8\n",
        "m,b=float(y1-y2)/(x1-x2),y1-float(y1-y2)/(x1-x2)*x1\n",
        "print(\"y=\",m,\"*x+\",b)"
      ],
      "execution_count": null,
      "outputs": [
        {
          "output_type": "stream",
          "text": [
            "y= 1.25 *x+ 0.5\n"
          ],
          "name": "stdout"
        }
      ]
    },
    {
      "cell_type": "code",
      "metadata": {
        "id": "rc3qq9fmoTYT",
        "colab": {
          "base_uri": "https://localhost:8080/"
        },
        "outputId": "b9087276-7271-4a35-e1ad-a9376e1f8eab"
      },
      "source": [
        "import keyword\n",
        "keyword.iskeyword('int')"
      ],
      "execution_count": null,
      "outputs": [
        {
          "output_type": "execute_result",
          "data": {
            "text/plain": [
              "False"
            ]
          },
          "metadata": {
            "tags": []
          },
          "execution_count": 82
        }
      ]
    },
    {
      "cell_type": "code",
      "metadata": {
        "id": "29me6gkkoTUk",
        "colab": {
          "base_uri": "https://localhost:8080/"
        },
        "outputId": "8a52f728-e2e9-42bc-921b-e93d58b82265"
      },
      "source": [
        "import keyword\n",
        "keyword.iskeyword(\"else\")\n"
      ],
      "execution_count": null,
      "outputs": [
        {
          "output_type": "execute_result",
          "data": {
            "text/plain": [
              "True"
            ]
          },
          "metadata": {
            "tags": []
          },
          "execution_count": 78
        }
      ]
    },
    {
      "cell_type": "code",
      "metadata": {
        "id": "ZswhLX_moTSx",
        "colab": {
          "base_uri": "https://localhost:8080/"
        },
        "outputId": "b4bff2e9-2380-48b2-adaf-11dd05c01bc2"
      },
      "source": [
        "a=int(input(\"what is the age \"))\n",
        "a"
      ],
      "execution_count": null,
      "outputs": [
        {
          "output_type": "stream",
          "text": [
            "what is the age 76\n"
          ],
          "name": "stdout"
        },
        {
          "output_type": "execute_result",
          "data": {
            "text/plain": [
              "76"
            ]
          },
          "metadata": {
            "tags": []
          },
          "execution_count": 12
        }
      ]
    },
    {
      "cell_type": "code",
      "metadata": {
        "id": "bAkSeceUnuS6",
        "colab": {
          "base_uri": "https://localhost:8080/",
          "height": 52
        },
        "outputId": "6cd642f8-736a-477a-d735-92c4efa74d97"
      },
      "source": [
        "name=input('what is your name')\n",
        "name"
      ],
      "execution_count": null,
      "outputs": [
        {
          "output_type": "stream",
          "text": [
            "what is your nameharsha\n"
          ],
          "name": "stdout"
        },
        {
          "output_type": "execute_result",
          "data": {
            "application/vnd.google.colaboratory.intrinsic+json": {
              "type": "string"
            },
            "text/plain": [
              "'harsha'"
            ]
          },
          "metadata": {
            "tags": []
          },
          "execution_count": 29
        }
      ]
    },
    {
      "cell_type": "code",
      "metadata": {
        "id": "eIseo2BcnuRZ",
        "colab": {
          "base_uri": "https://localhost:8080/"
        },
        "outputId": "f38635a6-612a-4227-aef6-7f80a3c576ac"
      },
      "source": [
        "vehicle=int(input(\"wt are u finding  \"))\n",
        "type=input('enter the type ')\n",
        "c='bmw'\n",
        "b='honda'\n",
        "if vehicle != 1:\n",
        "  if type=='car':\n",
        "    if c=='bmw':\n",
        "      print(\"we have a vehicle and its bmw\")\n",
        "  if type=='bike':\n",
        "     if b=='honda':\n",
        "       print(\"we have a bike and it is honda\")\n",
        "  else:\n",
        "    print(\"unavailable\")\n",
        "else:\n",
        "  print(\"visit other store\")\n",
        "  "
      ],
      "execution_count": null,
      "outputs": [
        {
          "output_type": "stream",
          "text": [
            "wt are u finding  2\n",
            "enter the type car\n",
            "we have a vehicle and its bmw\n",
            "unavailable\n"
          ],
          "name": "stdout"
        }
      ]
    },
    {
      "cell_type": "code",
      "metadata": {
        "id": "q76zrgOZnuPu",
        "colab": {
          "base_uri": "https://localhost:8080/",
          "height": 34
        },
        "outputId": "7a0d765a-6895-4116-d8f7-97b2ad623f19"
      },
      "source": [
        "str='yes'\n",
        "if str=='no':\n",
        "  print(\"yes\")\n",
        "  print(\"if loop\")\n",
        "print(\"demo program\")  "
      ],
      "execution_count": null,
      "outputs": [
        {
          "output_type": "stream",
          "text": [
            "demo program\n"
          ],
          "name": "stdout"
        }
      ]
    },
    {
      "cell_type": "code",
      "metadata": {
        "id": "iEQ63MfgnuJk",
        "colab": {
          "base_uri": "https://localhost:8080/",
          "height": 34
        },
        "outputId": "690e0547-f8e9-4a6b-e60a-9bd5c31120b5"
      },
      "source": [
        "a=25\n",
        "b=a\n",
        "if a is not b:\n",
        "  print(\"different id\")\n",
        "else:\n",
        "  print(\"same id\")"
      ],
      "execution_count": null,
      "outputs": [
        {
          "output_type": "stream",
          "text": [
            "same id\n"
          ],
          "name": "stdout"
        }
      ]
    },
    {
      "cell_type": "code",
      "metadata": {
        "id": "U_Rn_yF4nuIC",
        "colab": {
          "base_uri": "https://localhost:8080/",
          "height": 34
        },
        "outputId": "2ffefc92-97f4-4f21-c10c-627ac504978e"
      },
      "source": [
        "a=25\n",
        "b=a\n",
        "a is not b"
      ],
      "execution_count": null,
      "outputs": [
        {
          "output_type": "execute_result",
          "data": {
            "text/plain": [
              "False"
            ]
          },
          "metadata": {
            "tags": []
          },
          "execution_count": 25
        }
      ]
    },
    {
      "cell_type": "code",
      "metadata": {
        "id": "pTvDqFejnuD5",
        "colab": {
          "base_uri": "https://localhost:8080/",
          "height": 34
        },
        "outputId": "c08a75d4-e49f-4e8e-82ac-192c3e50feaf"
      },
      "source": [
        "a=25\n",
        "b=a\n",
        "a is b"
      ],
      "execution_count": null,
      "outputs": [
        {
          "output_type": "execute_result",
          "data": {
            "text/plain": [
              "True"
            ]
          },
          "metadata": {
            "tags": []
          },
          "execution_count": 24
        }
      ]
    },
    {
      "cell_type": "code",
      "metadata": {
        "id": "x8inBlRhnuBi",
        "colab": {
          "base_uri": "https://localhost:8080/",
          "height": 34
        },
        "outputId": "2c44b346-380c-480e-d058-b56555ed8fc5"
      },
      "source": [
        "a=25\n",
        "b=25\n",
        "a is not b"
      ],
      "execution_count": null,
      "outputs": [
        {
          "output_type": "execute_result",
          "data": {
            "text/plain": [
              "False"
            ]
          },
          "metadata": {
            "tags": []
          },
          "execution_count": 23
        }
      ]
    },
    {
      "cell_type": "code",
      "metadata": {
        "id": "ivVOFgT8mqCt",
        "colab": {
          "base_uri": "https://localhost:8080/",
          "height": 34
        },
        "outputId": "819e7fdb-7f81-47d1-963c-4aacc2fd5fc3"
      },
      "source": [
        "a=25\n",
        "b=25\n",
        "a is b"
      ],
      "execution_count": null,
      "outputs": [
        {
          "output_type": "execute_result",
          "data": {
            "text/plain": [
              "True"
            ]
          },
          "metadata": {
            "tags": []
          },
          "execution_count": 22
        }
      ]
    },
    {
      "cell_type": "code",
      "metadata": {
        "id": "IIJ2sd4zmqAH",
        "colab": {
          "base_uri": "https://localhost:8080/",
          "height": 34
        },
        "outputId": "3c7f99ca-f75c-41f3-9b3d-f3b2755ee567"
      },
      "source": [
        "a=10\n",
        "L=[10,23,45]\n",
        "a in L\n"
      ],
      "execution_count": null,
      "outputs": [
        {
          "output_type": "execute_result",
          "data": {
            "text/plain": [
              "True"
            ]
          },
          "metadata": {
            "tags": []
          },
          "execution_count": 21
        }
      ]
    },
    {
      "cell_type": "code",
      "metadata": {
        "id": "OUApA0l4mp7w",
        "colab": {
          "base_uri": "https://localhost:8080/"
        },
        "outputId": "5b0a1195-0c92-42af-c38f-2e70ad13788b"
      },
      "source": [
        "x={'a':'Apple','b':'Ball','c':'Cat'}\n",
        "for i in x:\n",
        "  print(x[i])"
      ],
      "execution_count": null,
      "outputs": [
        {
          "output_type": "stream",
          "text": [
            "Apple\n",
            "Ball\n",
            "Cat\n"
          ],
          "name": "stdout"
        }
      ]
    },
    {
      "cell_type": "code",
      "metadata": {
        "id": "YNLTEtUtmp6U",
        "colab": {
          "base_uri": "https://localhost:8080/"
        },
        "outputId": "d2a291a2-9065-4444-a509-8f10218c99ad"
      },
      "source": [
        "x=[1,2,3,4,5]\n",
        "for num in x:\n",
        "  print(num)  "
      ],
      "execution_count": null,
      "outputs": [
        {
          "output_type": "stream",
          "text": [
            "1\n",
            "2\n",
            "3\n",
            "4\n",
            "5\n"
          ],
          "name": "stdout"
        }
      ]
    },
    {
      "cell_type": "code",
      "metadata": {
        "id": "2J-5xpxcmp15",
        "colab": {
          "base_uri": "https://localhost:8080/"
        },
        "outputId": "746c4a10-4bc8-484b-8dfc-c69dad9d2979"
      },
      "source": [
        "a=int(input('ones digit'))\n",
        "sum=int(a*(2**0))\n",
        "b=int(input('tens digit'))\n",
        "sum=int(sum+b*(2**1))\n",
        "c=int(input('hundreds digit'))\n",
        "sum=int(sum+c*(2**2))\n",
        "d=int(input('thousands digit'))\n",
        "sum=int(sum+d*(2**3))\n",
        "print('sum=',sum)"
      ],
      "execution_count": null,
      "outputs": [
        {
          "output_type": "stream",
          "text": [
            "ones digit4\n",
            "tens digit4\n",
            "hundreds digit5\n",
            "thousands digit5\n",
            "sum= 72\n"
          ],
          "name": "stdout"
        }
      ]
    },
    {
      "cell_type": "code",
      "metadata": {
        "id": "rBkeH777mp0G",
        "colab": {
          "base_uri": "https://localhost:8080/",
          "height": 68
        },
        "outputId": "ab8b0741-712b-4f7c-bf7a-2cf661d36570"
      },
      "source": [
        "l=int(input(\"enter the length\"))\n",
        "b=int(input(\"enter the breadth\"))\n",
        "p=2*(l+b)\n",
        "cost=p+168\n",
        "print(\"the cost is\",cost)"
      ],
      "execution_count": null,
      "outputs": [
        {
          "output_type": "stream",
          "text": [
            "enter the length12\n",
            "enter the breadth21\n",
            "the cost is 234\n"
          ],
          "name": "stdout"
        }
      ]
    },
    {
      "cell_type": "code",
      "metadata": {
        "id": "MF_p6ge9mpwM",
        "colab": {
          "base_uri": "https://localhost:8080/",
          "height": 51
        },
        "outputId": "47cfebe3-631e-4052-92a7-31355e8e1448"
      },
      "source": [
        "x=int(input(\"enter the marks\"))\n",
        "if x>=90:\n",
        "  print(\"a grade\")\n",
        "elif x>79 and x<90:\n",
        "  print(\"b grade\")\n",
        "elif x>69 and x<80:\n",
        "  print(\"c grade\")\n",
        "else:\n",
        "  print(\"f grade\")  "
      ],
      "execution_count": null,
      "outputs": [
        {
          "output_type": "stream",
          "text": [
            "enter the marks76\n",
            "c grade\n"
          ],
          "name": "stdout"
        }
      ]
    },
    {
      "cell_type": "code",
      "metadata": {
        "id": "eanj8yJUmpu3",
        "colab": {
          "base_uri": "https://localhost:8080/",
          "height": 34
        },
        "outputId": "b2664c83-1321-44f6-ac30-94d56f9e6dcd"
      },
      "source": [
        "print(\"welcome to\",end=\" \")\n",
        "print(\"presidency\")"
      ],
      "execution_count": null,
      "outputs": [
        {
          "output_type": "stream",
          "text": [
            "welcome to presidency\n"
          ],
          "name": "stdout"
        }
      ]
    },
    {
      "cell_type": "code",
      "metadata": {
        "id": "0jfKgfGhmprI",
        "colab": {
          "base_uri": "https://localhost:8080/"
        },
        "outputId": "ed5e7d0d-9797-4c8c-fcd7-091f4bae033a"
      },
      "source": [
        "a=int(input(\"enter num1\"))\n",
        "b=int(input(\"enter num2\"))\n",
        "c=int(input(\"enter num3\"))\n",
        "if(a>b)and(a>c):\n",
        "  largest=a\n",
        "elif(b>a)and(b>c):\n",
        "  largest=b\n",
        "else:\n",
        "  largest=c\n",
        "  print(\"the largest is\", largest , \" good\")    \n"
      ],
      "execution_count": null,
      "outputs": [
        {
          "output_type": "stream",
          "text": [
            "enter num13\n",
            "enter num24\n",
            "enter num36\n",
            "the largest is 6  good\n"
          ],
          "name": "stdout"
        }
      ]
    },
    {
      "cell_type": "code",
      "metadata": {
        "id": "1jTYgaH9mpo7",
        "colab": {
          "base_uri": "https://localhost:8080/",
          "height": 51
        },
        "outputId": "3ccc47ed-5e12-4dcc-b3a3-2ecb1063f8c5"
      },
      "source": [
        "x=input(\"enter the character\")\n",
        "if x=='a':\n",
        "  print(\"apple\")\n",
        "elif x=='b':\n",
        "  print(\"bannana\")\n",
        "elif x=='c':\n",
        "  print(\"coconut\")\n",
        "else:\n",
        "  print(\"incorrect input\")  \n"
      ],
      "execution_count": null,
      "outputs": [
        {
          "output_type": "stream",
          "text": [
            "enter the characterb\n",
            "bannana\n"
          ],
          "name": "stdout"
        }
      ]
    },
    {
      "cell_type": "code",
      "metadata": {
        "id": "BmUduR1LkYmI",
        "colab": {
          "base_uri": "https://localhost:8080/",
          "height": 68
        },
        "outputId": "2a4b408a-9520-4c45-9aac-2eca3add292b"
      },
      "source": [
        "a=int(input(\"enter a\"))\n",
        "b=int(input(\"enter b\"))\n",
        "if a>b:\n",
        "  print(\"a is greater\")\n",
        "elif a<b:\n",
        "  print(\"b is greater\")\n",
        "else:\n",
        " print(\"both are equal\")   "
      ],
      "execution_count": null,
      "outputs": [
        {
          "output_type": "stream",
          "text": [
            "enter a3\n",
            "enter b8\n",
            "b is greater\n"
          ],
          "name": "stdout"
        }
      ]
    },
    {
      "cell_type": "code",
      "metadata": {
        "id": "bAG3VC64kYlJ",
        "colab": {
          "base_uri": "https://localhost:8080/",
          "height": 51
        },
        "outputId": "c38557cf-043e-4002-c0a4-fcaee594ba30"
      },
      "source": [
        "x=int(input(\"enter the number\"))\n",
        "if x>0:\n",
        " print(\"positive num\")\n",
        "elif x==0:\n",
        " print(\"zero\")\n",
        "else:\n",
        "  print(\"negative\")  "
      ],
      "execution_count": null,
      "outputs": [
        {
          "output_type": "stream",
          "text": [
            "enter the number34\n",
            "positive num\n"
          ],
          "name": "stdout"
        }
      ]
    },
    {
      "cell_type": "code",
      "metadata": {
        "id": "N2WuaVJFkYgj",
        "colab": {
          "base_uri": "https://localhost:8080/",
          "height": 51
        },
        "outputId": "9bd8e71f-eb56-4c49-f2cc-4da6fe85c887"
      },
      "source": [
        "x=int(input(\"enter the number\"))\n",
        "if x%2==0:\n",
        "  print(\"even\")\n",
        "else:\n",
        "  print(\"odd\")  "
      ],
      "execution_count": null,
      "outputs": [
        {
          "output_type": "stream",
          "text": [
            "enter the number4\n",
            "even\n"
          ],
          "name": "stdout"
        }
      ]
    },
    {
      "cell_type": "code",
      "metadata": {
        "id": "JZ_6H3vQkYfN",
        "colab": {
          "base_uri": "https://localhost:8080/"
        },
        "outputId": "3baf6d17-3832-47e3-8359-b6de4a71026f"
      },
      "source": [
        "x=int(input(\"enter the number\"))\n",
        "if x>=90:\n",
        "  print(\"grade-A\")\n",
        "elif x>=80:\n",
        "  print(\"grade-B\")\n",
        "elif x>=70:\n",
        "  print(\"grade-c\")\n",
        "else:\n",
        "  print(\"outstanding\")      "
      ],
      "execution_count": null,
      "outputs": [
        {
          "output_type": "stream",
          "text": [
            "enter the number65\n",
            "outstanding\n"
          ],
          "name": "stdout"
        }
      ]
    },
    {
      "cell_type": "code",
      "metadata": {
        "id": "BlnPa4zhkYTL",
        "colab": {
          "base_uri": "https://localhost:8080/",
          "height": 51
        },
        "outputId": "4f81e17d-8c0f-4e0f-ebd1-d63416c6904d"
      },
      "source": [
        "vehicle=input(\"enter the vehicle type:\")\n",
        "if vehicle=='car':\n",
        "  print('riding the car')\n",
        "else:\n",
        "  print('riding the bike')"
      ],
      "execution_count": null,
      "outputs": [
        {
          "output_type": "stream",
          "text": [
            "enter the vehicle type:bike\n",
            "riding the bike\n"
          ],
          "name": "stdout"
        }
      ]
    },
    {
      "cell_type": "code",
      "metadata": {
        "id": "hUUJawcLkYSF",
        "colab": {
          "base_uri": "https://localhost:8080/",
          "height": 85
        },
        "outputId": "c3f25dd0-3696-484c-874a-5c60d820ba66"
      },
      "source": [
        "n=int(input(\"enter the number\"))\n",
        "for i in range(1,n+1):\n",
        " print(i)"
      ],
      "execution_count": null,
      "outputs": [
        {
          "output_type": "stream",
          "text": [
            "enter the number3\n",
            "1\n",
            "2\n",
            "3\n"
          ],
          "name": "stdout"
        }
      ]
    },
    {
      "cell_type": "code",
      "metadata": {
        "id": "uYc0DxMUkYMx",
        "colab": {
          "base_uri": "https://localhost:8080/"
        },
        "outputId": "e8a308c9-4792-436c-984e-427ba8b4621d"
      },
      "source": [
        "for i in range(1,4):\n",
        "  print(i)"
      ],
      "execution_count": null,
      "outputs": [
        {
          "output_type": "stream",
          "text": [
            "1\n",
            "2\n",
            "3\n"
          ],
          "name": "stdout"
        }
      ]
    },
    {
      "cell_type": "code",
      "metadata": {
        "id": "izuhwt2nkYL0",
        "colab": {
          "base_uri": "https://localhost:8080/",
          "height": 34
        },
        "outputId": "eecfef22-86db-4227-f603-ebc8cfeba522"
      },
      "source": [
        "list(range(10))"
      ],
      "execution_count": null,
      "outputs": [
        {
          "output_type": "execute_result",
          "data": {
            "text/plain": [
              "[0, 1, 2, 3, 4, 5, 6, 7, 8, 9]"
            ]
          },
          "metadata": {
            "tags": []
          },
          "execution_count": 5
        }
      ]
    },
    {
      "cell_type": "code",
      "metadata": {
        "id": "fOw_Z9pLkYHP",
        "colab": {
          "base_uri": "https://localhost:8080/",
          "height": 34
        },
        "outputId": "1984f95d-c809-4218-e024-ec42292e2994"
      },
      "source": [
        "range(0,10)"
      ],
      "execution_count": null,
      "outputs": [
        {
          "output_type": "execute_result",
          "data": {
            "text/plain": [
              "range(0, 10)"
            ]
          },
          "metadata": {
            "tags": []
          },
          "execution_count": 4
        }
      ]
    },
    {
      "cell_type": "code",
      "metadata": {
        "id": "oVJM5R1GkYGO",
        "colab": {
          "base_uri": "https://localhost:8080/"
        },
        "outputId": "53e5c32e-382f-4b10-a468-85fc9f168917"
      },
      "source": [
        "print(range(0,10))"
      ],
      "execution_count": null,
      "outputs": [
        {
          "output_type": "stream",
          "text": [
            "range(0, 10)\n"
          ],
          "name": "stdout"
        }
      ]
    },
    {
      "cell_type": "code",
      "metadata": {
        "id": "yJ8F1eMrkYB0",
        "colab": {
          "base_uri": "https://localhost:8080/",
          "height": 119
        },
        "outputId": "53e19c52-bbbc-4288-d95c-a5a9dc3fb5a9"
      },
      "source": [
        "for x in \"banana\":\n",
        "  print(x)"
      ],
      "execution_count": null,
      "outputs": [
        {
          "output_type": "stream",
          "text": [
            "b\n",
            "a\n",
            "n\n",
            "a\n",
            "n\n",
            "a\n"
          ],
          "name": "stdout"
        }
      ]
    },
    {
      "cell_type": "code",
      "metadata": {
        "id": "Yo_4wGTFkYAn",
        "colab": {
          "base_uri": "https://localhost:8080/",
          "height": 51
        },
        "outputId": "2cb2572e-c9f7-46d1-86c3-c8ccd6fb8b1d"
      },
      "source": [
        "sum=0\n",
        "current=1\n",
        "n=int(input(\"enter the value\"))\n",
        "while(current<=n):\n",
        "  sum=sum+current\n",
        "  current=current+1\n",
        "print(\"sum=\",sum)  \n"
      ],
      "execution_count": null,
      "outputs": [
        {
          "output_type": "stream",
          "text": [
            "enter the value12\n",
            "sum= 78\n"
          ],
          "name": "stdout"
        }
      ]
    },
    {
      "cell_type": "code",
      "metadata": {
        "id": "LrI9KdSHkX2Q",
        "colab": {
          "base_uri": "https://localhost:8080/",
          "height": 187
        },
        "outputId": "64fe318d-f706-4c8e-c3da-c508a7f48b99"
      },
      "source": [
        "i=1\n",
        "while(i<6):\n",
        "  print(i)\n",
        "  i=i + 1\n",
        "  print('good bye!') "
      ],
      "execution_count": null,
      "outputs": [
        {
          "output_type": "stream",
          "text": [
            "1\n",
            "good bye!\n",
            "2\n",
            "good bye!\n",
            "3\n",
            "good bye!\n",
            "4\n",
            "good bye!\n",
            "5\n",
            "good bye!\n"
          ],
          "name": "stdout"
        }
      ]
    },
    {
      "cell_type": "code",
      "metadata": {
        "id": "AtWftZwjkX1P",
        "colab": {
          "base_uri": "https://localhost:8080/",
          "height": 68
        },
        "outputId": "c4b93d18-0453-46e4-ca64-3d98a8b2cce7"
      },
      "source": [
        "x=int(input(\"enter the value of x\"))\n",
        "y=int(input(\"enter the value of y\"))\n",
        "if(x>0 and y>0):\n",
        "  print(\"first quadrant\")  \n",
        "elif(x<0 and y>0):\n",
        "  print(\"second quadrant\")\n",
        "elif(x>0 and y<0):\n",
        "  print(\"third quadrant\")\n",
        "elif(x>0 and y<0):\n",
        "  print(\"fourth quadrant\")\n",
        "else:\n",
        "  print(\"LIES IN ORIGIN\")  "
      ],
      "execution_count": null,
      "outputs": [
        {
          "output_type": "stream",
          "text": [
            "enter the value of x2\n",
            "enter the value of y4\n",
            "first quadrant\n"
          ],
          "name": "stdout"
        }
      ]
    },
    {
      "cell_type": "code",
      "metadata": {
        "id": "YwLbDVnekXw_",
        "colab": {
          "base_uri": "https://localhost:8080/",
          "height": 51
        },
        "outputId": "2f63f9e2-fa5b-4858-e918-b4a847e1e63f"
      },
      "source": [
        "c=input(\"enter a character\")\n",
        "x=ord(c)\n",
        "if(x>=65 and x<=90):\n",
        "  print(\"is an alphabet\")\n",
        "elif(x>=97 and x<=122):\n",
        "  print(\"is an alphabet\")  \n",
        "elif(x>=48 and x<=57):\n",
        "  print(\"digit\")\n",
        "else:\n",
        "  print(c,\"is special character\")    \n"
      ],
      "execution_count": null,
      "outputs": [
        {
          "output_type": "stream",
          "text": [
            "enter a charactera\n",
            "is an alphabet\n"
          ],
          "name": "stdout"
        }
      ]
    },
    {
      "cell_type": "code",
      "metadata": {
        "id": "-YxOl8BTkXvW",
        "colab": {
          "base_uri": "https://localhost:8080/",
          "height": 170
        },
        "outputId": "c49e8e83-ebc2-42da-8896-f0f08e5dc24a"
      },
      "source": [
        "n=int(input(\"enter the total no of numbers\"))\n",
        "a,b,c=0,1,1\n",
        "print(a,'\\n',b,'\\n',c,'\\n')\n",
        "for i in range(0,n-3):\n",
        "  d=a+b+c\n",
        "  print(d,'\\n')\n",
        "  a=b\n",
        "  b=c\n",
        "  c=d"
      ],
      "execution_count": null,
      "outputs": [
        {
          "output_type": "stream",
          "text": [
            "enter the total no of numbers5\n",
            "0 \n",
            " 1 \n",
            " 1 \n",
            "\n",
            "2 \n",
            "\n",
            "4 \n",
            "\n"
          ],
          "name": "stdout"
        }
      ]
    },
    {
      "cell_type": "code",
      "metadata": {
        "id": "NHRQ0z-okUdp",
        "colab": {
          "base_uri": "https://localhost:8080/",
          "height": 68
        },
        "outputId": "539bc9b9-e379-4e32-f705-35620ecfbc87"
      },
      "source": [
        "#print statements\n",
        "print(\"hello world\")\n",
        "print(\"stay safe\")\n",
        "print(\"lets go\")"
      ],
      "execution_count": null,
      "outputs": [
        {
          "output_type": "stream",
          "text": [
            "hello world\n",
            "stay safe\n",
            "lets go\n"
          ],
          "name": "stdout"
        }
      ]
    },
    {
      "cell_type": "markdown",
      "metadata": {
        "id": "mRivchpouNUx"
      },
      "source": [
        "https://colab.research.google.com/drive/1-rFKa8aRqhRRzZEp1CduhMynBFg9WDZ7?usp=sharing"
      ]
    }
  ]
}