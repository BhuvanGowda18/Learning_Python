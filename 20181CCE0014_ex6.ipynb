{
  "nbformat": 4,
  "nbformat_minor": 0,
  "metadata": {
    "colab": {
      "name": "20181CCE0014 ex6.ipynb",
      "provenance": [],
      "collapsed_sections": [],
      "authorship_tag": "ABX9TyMZafF+vUrQXl8Ds4SV5En1",
      "include_colab_link": true
    },
    "kernelspec": {
      "name": "python3",
      "display_name": "Python 3"
    }
  },
  "cells": [
    {
      "cell_type": "markdown",
      "metadata": {
        "id": "view-in-github",
        "colab_type": "text"
      },
      "source": [
        "<a href=\"https://colab.research.google.com/github/BhuvanGowda18/Learning_Python/blob/main/20181CCE0014_ex6.ipynb\" target=\"_parent\"><img src=\"https://colab.research.google.com/assets/colab-badge.svg\" alt=\"Open In Colab\"/></a>"
      ]
    },
    {
      "cell_type": "code",
      "metadata": {
        "colab": {
          "base_uri": "https://localhost:8080/"
        },
        "id": "L2AL4ilY0gMH",
        "outputId": "21a22700-8e16-4670-e30b-8ebc24e83ec7"
      },
      "source": [
        "##1\n",
        "c={}\n",
        "for i in range(7):\n",
        "  day=input(\"Enter the day: \")\n",
        "  t=float(input(\"Enter the temperature: \"))\n",
        "  c[(day)]=t\n",
        "inp=input(\"Enter the day - SUN,MON,TUE,WED,THUR,FRI or SAT : \")\n",
        "print(\"The temperature : \",c[(inp)])\n"
      ],
      "execution_count": null,
      "outputs": [
        {
          "output_type": "stream",
          "text": [
            "Enter the day: sun\n",
            "Enter the temperature: 30\n",
            "Enter the day: mon\n",
            "Enter the temperature: 29\n",
            "Enter the day: tue\n",
            "Enter the temperature: 31\n",
            "Enter the day: wed\n",
            "Enter the temperature: 33\n",
            "Enter the day: thur\n",
            "Enter the temperature: 31\n",
            "Enter the day: fri\n",
            "Enter the temperature: 29\n",
            "Enter the day: sat\n",
            "Enter the temperature: 27\n",
            "Enter the day - SUN,MON,TUE,WED,THUR,FRI or SAT : wed\n",
            "The temperature :  33.0\n"
          ],
          "name": "stdout"
        }
      ]
    },
    {
      "cell_type": "code",
      "metadata": {
        "colab": {
          "base_uri": "https://localhost:8080/"
        },
        "id": "BHux313459CM",
        "outputId": "a8b4040f-a49d-409b-96eb-84703ae1516a"
      },
      "source": [
        "#2\n",
        "vote =eval(input(\"Enter the votes : \"))\n",
        "count={}\n",
        "prev=[]\n",
        "for i in vote:\n",
        "  if i not in prev:\n",
        "    n=vote.count(i)\n",
        "    count[(i)]=n\n",
        "    prev.append(i)\n",
        "print(count)\n",
        "max=max(count.values()) \n",
        "lst=[i for i in count.keys() if count[i]==max]  \n",
        "print(sorted(lst)[0]+\" won the election\")\n"
      ],
      "execution_count": null,
      "outputs": [
        {
          "output_type": "stream",
          "text": [
            "Enter the votes :  [\"Raja\", \"Raja\", \"Elango\",\"Elango\", \"Elango\", \"Elango\",\"Elango\", \"john\", \"john\",\"Alfred\", \"Raja\", \"Raja\",\"Raja\"]\n",
            "{'Raja': 5, 'Elango': 5, 'john': 2, 'Alfred': 1}\n",
            "Elango won the election\n"
          ],
          "name": "stdout"
        }
      ]
    },
    {
      "cell_type": "code",
      "metadata": {
        "colab": {
          "base_uri": "https://localhost:8080/"
        },
        "id": "E124GQr4-UpI",
        "outputId": "4d81f185-d528-47e9-f47c-aef126aa98f5"
      },
      "source": [
        "#3\n",
        "phoneBook={'John':\"00903234561\",'Mary':\"02359332865\",'Bill':\"004934784530\"}\n",
        "print(phoneBook.keys())\n",
        "print(phoneBook.values())\n",
        "print(phoneBook.items())\n",
        "print(sorted(phoneBook))\n",
        "print(phoneBook['Mary'])\n",
        "phoneBook[('Robert')]=\"01135894114\"\n",
        "print(phoneBook)\n",
        "del phoneBook[\"Robert\"]\n",
        "print(phoneBook)\n",
        "'John' in phoneBook"
      ],
      "execution_count": null,
      "outputs": [
        {
          "output_type": "stream",
          "text": [
            "dict_keys(['John', 'Mary', 'Bill'])\n",
            "dict_values(['00903234561', '02359332865', '004934784530'])\n",
            "dict_items([('John', '00903234561'), ('Mary', '02359332865'), ('Bill', '004934784530')])\n",
            "['Bill', 'John', 'Mary']\n",
            "02359332865\n",
            "{'John': '00903234561', 'Mary': '02359332865', 'Bill': '004934784530', 'Robert': '01135894114'}\n",
            "{'John': '00903234561', 'Mary': '02359332865', 'Bill': '004934784530'}\n"
          ],
          "name": "stdout"
        },
        {
          "output_type": "execute_result",
          "data": {
            "text/plain": [
              "True"
            ]
          },
          "metadata": {
            "tags": []
          },
          "execution_count": 12
        }
      ]
    },
    {
      "cell_type": "code",
      "metadata": {
        "colab": {
          "base_uri": "https://localhost:8080/"
        },
        "id": "dexQJFYf-cMH",
        "outputId": "be795235-6601-4d82-faf5-3f492e438cd5"
      },
      "source": [
        "#4\n",
        "s=input(\"Input: \")\n",
        "s=s.split(' ')\n",
        "s1=''\n",
        "prev = []\n",
        "for i in  s:\n",
        "  if i not in prev:\n",
        "    s1=s1+i+\" \"\n",
        "    prev.append(i)\n",
        "print(\"output:\",s1)\n"
      ],
      "execution_count": null,
      "outputs": [
        {
          "output_type": "stream",
          "text": [
            "Input:  Python is great and Java is also great\n",
            "output:  Python is great and Java also \n"
          ],
          "name": "stdout"
        }
      ]
    },
    {
      "cell_type": "code",
      "metadata": {
        "colab": {
          "base_uri": "https://localhost:8080/"
        },
        "id": "7CkhRrmn-k91",
        "outputId": "f89caab1-0f4e-4b58-d121-73d56c748bb4"
      },
      "source": [
        "#6\n",
        "list0={\"PEN\": 10,\"NOTEBOOK\": 20,\"PENCIL\": 5,\"SCALE\": 10,\"STAPLER\": 40,\"ERASER\": 2,\"HIGHLIGHTER\": 15,}\n",
        "name=input(\"Enter the customer name: \")\n",
        "list1=eval(input(\"Enter the list of item and number item bought by customers: \"))\n",
        "cost,sum={},0\n",
        "for i in list1:\n",
        "  cost[(i)]=list0[(i)]*list1[(i)]\n",
        "  sum=sum+cost[(i)]\n",
        "print(\"Name: \",name)\n",
        "print(\"Item     Number of item     Price\")\n",
        "for i in cost:\n",
        "  print(i,\"\\t\",list1[(i)],\"\\t\",cost[(i)])\n",
        "print(\"Total amount to be paid : \",sum)"
      ],
      "execution_count": null,
      "outputs": [
        {
          "output_type": "stream",
          "text": [
            "Enter the customer name: jeevan\n",
            "Enter the list of item and number item bought by customers: {\"PEN\":2,\"NOTEBOOK\":4,\"STAPLER\":2,\"HIGHLIGHTER\":4}\n",
            "Name:  jeevan\n",
            "Item     Number of item     Price\n",
            "PEN \t 2 \t 20\n",
            "NOTEBOOK \t 4 \t 80\n",
            "STAPLER \t 2 \t 80\n",
            "HIGHLIGHTER \t 4 \t 60\n",
            "Total amount to be paid :  240\n"
          ],
          "name": "stdout"
        }
      ]
    },
    {
      "cell_type": "markdown",
      "metadata": {
        "id": "ryef-5WB-7_R"
      },
      "source": [
        "https://colab.research.google.com/drive/1gTYjqhd5JRNypyef8QmlwA81TFWNbaB8?usp=sharing"
      ]
    }
  ]
}