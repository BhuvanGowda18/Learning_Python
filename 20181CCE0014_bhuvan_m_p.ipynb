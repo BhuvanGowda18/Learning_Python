{
  "nbformat": 4,
  "nbformat_minor": 0,
  "metadata": {
    "colab": {
      "name": "20181CCE0014_bhuvan m p.ipynb",
      "provenance": [],
      "authorship_tag": "ABX9TyNkeP8UIwGnutXBymNekX+h",
      "include_colab_link": true
    },
    "kernelspec": {
      "name": "python3",
      "display_name": "Python 3"
    }
  },
  "cells": [
    {
      "cell_type": "markdown",
      "metadata": {
        "id": "view-in-github",
        "colab_type": "text"
      },
      "source": [
        "<a href=\"https://colab.research.google.com/github/BhuvanGowda18/Learning_Python/blob/main/20181CCE0014_bhuvan_m_p.ipynb\" target=\"_parent\"><img src=\"https://colab.research.google.com/assets/colab-badge.svg\" alt=\"Open In Colab\"/></a>"
      ]
    },
    {
      "cell_type": "markdown",
      "metadata": {
        "id": "7vGm9LkgL3N3"
      },
      "source": [
        "1a"
      ]
    },
    {
      "cell_type": "code",
      "metadata": {
        "colab": {
          "base_uri": "https://localhost:8080/"
        },
        "id": "N6k1nEpzFkrp",
        "outputId": "de1405dd-ec3f-4ab9-95d9-dad6b2f9ce72"
      },
      "source": [
        "def counthv(l):\n",
        "  c=0\n",
        "  d=0\n",
        "  if len(l)>2:\n",
        "    for i in range(1,len(l)-1):\n",
        "      if l[i]>l[i-1] and l[i]>l[i+1]:\n",
        "        c1+=1\n",
        "      elif l[i]<l[i-1] and l[i]<l[i+1]:\n",
        "        d+=1\n",
        "  return [c,d]\n",
        "\n",
        "\n",
        "L = []\n",
        "a = int(input('enter no of elements for the list '))\n",
        "for i in range(a):\n",
        "  b = int(input('enter a element '))\n",
        "  L.append(b)\n",
        "\n",
        "print('the list has no of hills and valleys',counthv(L))"
      ],
      "execution_count": null,
      "outputs": [
        {
          "output_type": "stream",
          "text": [
            "enter no of elements for the list 4\n",
            "enter a element 3\n",
            "enter a element 1\n",
            "enter a element 2\n",
            "enter a element 3\n",
            "the list has no of hills and valleys [0, 1]\n"
          ],
          "name": "stdout"
        }
      ]
    },
    {
      "cell_type": "markdown",
      "metadata": {
        "id": "1Vyx3rlFN20M"
      },
      "source": [
        "1b"
      ]
    },
    {
      "cell_type": "code",
      "metadata": {
        "colab": {
          "base_uri": "https://localhost:8080/",
          "height": 330
        },
        "id": "fBBVNfPMN7TL",
        "outputId": "693bc112-15b4-4de0-9993-b4e6fa4a72cc"
      },
      "source": [
        "import matplotlib.pyplot as plt\n",
        "emp_id = [1001,1003,1006,1009,1010,1012]\n",
        "salary = [10000,23000.50,18000,16500,12000.75,9999.99]\n",
        "bins = [5000,10000,15000,25000]\n",
        "(n,bins,patches) = plt.hist([salary],bins,rwidth=0.90,color='green')\n",
        "plt.xlabel(\"salary\")\n",
        "plt.ylabel('employees')\n",
        "plt.show()\n",
        "print(\"No of less paid employees =\",n[0])\n",
        "print(\"No of Average paid employees =\",n[1])\n",
        "print(\"No of Highly paid employees =\",n[2])"
      ],
      "execution_count": null,
      "outputs": [
        {
          "output_type": "display_data",
          "data": {
            "image/png": "[encoded data removed]",
            "text/plain": [
              "<Figure size 432x288 with 1 Axes>"
            ]
          },
          "metadata": {
            "tags": [],
            "needs_background": "light"
          }
        },
        {
          "output_type": "stream",
          "text": [
            "No of less paid employees = 1.0\n",
            "No of Average paid employees = 2.0\n",
            "No of Highly paid employees = 3.0\n"
          ],
          "name": "stdout"
        }
      ]
    },
    {
      "cell_type": "markdown",
      "metadata": {
        "id": "6VTGehgHOh49"
      },
      "source": [
        "2a"
      ]
    },
    {
      "cell_type": "code",
      "metadata": {
        "colab": {
          "base_uri": "https://localhost:8080/"
        },
        "id": "7Sk2hKCQOkg2",
        "outputId": "27d17f11-f184-4142-aab5-254a766f1bea"
      },
      "source": [
        "present=[\"sai kumar\",\"manoj kumar\",\"miki sing\",\"tejeshwar\",\"abdul\",\"fardeen khan\",\"---\",\"---\",\"---\"]\n",
        "registered=[\"sai kumar\",\"ganesh\",\"manoj kumar\",\"miki sing\",\"tejeshwar\",\"fahad\",\"abdul\",\"abrar\",\"fardeen khan\"]\n",
        "\n",
        "absent=[]\n",
        "for i in registered:\n",
        "  if i not in present:\n",
        "    absent.append(i)\n",
        "print(\"students absent\",absent)\n",
        "\n",
        "pd.DataFrame(present)\n",
        "pd.DataFrame(registered)\n",
        "class1={'present':[\"sai kumar\",\"manoj kumar\",\"miki sing\",\"tejeshwar\",\"abdul\",\"fardeen khan\",\"\",\"\",\"\"],\n",
        "\"registered\":[\"sai kumar\",\"ganesh\",\"manoj kumar\",\"miki sing\",\"tejeshwar\",\"fahad\",\"abdul\",\"abrar\",\"fardeen khan\"]}\n",
        "df=pd.DataFrame(class1)\n",
        "print(df)\n",
        "df.to_excel(\"class1.xlsx\")"
      ],
      "execution_count": null,
      "outputs": [
        {
          "output_type": "stream",
          "text": [
            "students absent ['ganesh', 'fahad', 'abrar']\n",
            "        present    registered\n",
            "0     sai kumar     sai kumar\n",
            "1   manoj kumar        ganesh\n",
            "2     miki sing   manoj kumar\n",
            "3     tejeshwar     miki sing\n",
            "4         abdul     tejeshwar\n",
            "5  fardeen khan         fahad\n",
            "6                       abdul\n",
            "7                       abrar\n",
            "8                fardeen khan\n"
          ],
          "name": "stdout"
        }
      ]
    },
    {
      "cell_type": "markdown",
      "metadata": {
        "id": "8lSCQoQDW9Wu"
      },
      "source": [
        "2b"
      ]
    },
    {
      "cell_type": "code",
      "metadata": {
        "colab": {
          "base_uri": "https://localhost:8080/",
          "height": 414
        },
        "id": "7atl2sOHfVP4",
        "outputId": "59314ca1-1a3c-46eb-b423-a7431584771c"
      },
      "source": [
        "import pandas as pd\n",
        "from sklearn.datasets import load_wine\n",
        "from sklearn.model_selection import train_test_split\n",
        "data = load_wine()\n",
        "df = pd.DataFrame(data.data, columns=data.feature_names)\n",
        "df['target'] = data.target\n",
        "X_train, X_test, Y_train, Y_test = train_test_split(df[data.feature_names],df['target'],random_state=0)\n",
        "\n",
        "\n",
        "from sklearn.tree import DecisionTreeClassifier\n",
        "clf=DecisionTreeClassifier(max_depth=2,random_state=0)\n",
        "clf.fit(X_train,Y_train)\n",
        "clf.predict(X_test.iloc[0].values.reshape(1,-1))\n",
        "clf.predict(X_test[0:10])\n",
        "\n",
        "max_depth_range= list(range(1,9))\n",
        "accuracy = []\n",
        "\n",
        "for depth in max_depth_range:\n",
        "  clf = DecisionTreeClassifier(max_depth=depth,random_state=0)\n",
        "  clf.fit(X_train,Y_train)\n",
        "  score=clf.score(X_test,Y_test)\n",
        "  print(f\"Score for depth {depth} = {score}\")\n",
        "  accuracy.append(score)\n",
        "\n",
        "import matplotlib.pyplot as plt\n",
        "plt.plot(accuracy)\n",
        "plt.ylabel('Accuracy')\n",
        "plt.xlabel('Depth of the tree')\n",
        "plt.show()"
      ],
      "execution_count": null,
      "outputs": [
        {
          "output_type": "stream",
          "text": [
            "Score for depth 1 = 0.6666666666666666\n",
            "Score for depth 2 = 0.8444444444444444\n",
            "Score for depth 3 = 0.9333333333333333\n",
            "Score for depth 4 = 0.9333333333333333\n",
            "Score for depth 5 = 0.9333333333333333\n",
            "Score for depth 6 = 0.9333333333333333\n",
            "Score for depth 7 = 0.9333333333333333\n",
            "Score for depth 8 = 0.9333333333333333\n"
          ],
          "name": "stdout"
        },
        {
          "output_type": "display_data",
          "data": {
            "image/png": "[encoded data removed]",
            "text/plain": [
              "<Figure size 432x288 with 1 Axes>"
            ]
          },
          "metadata": {
            "tags": [],
            "needs_background": "light"
          }
        }
      ]
    },
    {
      "cell_type": "markdown",
      "metadata": {
        "id": "4K2cnsS3hIQ0"
      },
      "source": [
        "https://colab.research.google.com/drive/1grdZodNh2aQMHDWfVNMlBZytmDbFU0zU?usp=sharing"
      ]
    }
  ]
}