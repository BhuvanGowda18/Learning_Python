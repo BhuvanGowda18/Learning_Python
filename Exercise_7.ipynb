{
  "nbformat": 4,
  "nbformat_minor": 0,
  "metadata": {
    "language_info": {
      "codemirror_mode": {
        "name": "ipython",
        "version": 3
      },
      "file_extension": ".py",
      "mimetype": "text/x-python",
      "name": "python",
      "nbconvert_exporter": "python",
      "pygments_lexer": "ipython3",
      "version": "3.8.5-final"
    },
    "orig_nbformat": 2,
    "kernelspec": {
      "name": "Python 3.8.5 64-bit",
      "display_name": "Python 3.8.5 64-bit",
      "metadata": {
        "interpreter": {
          "hash": "719ab66c308341e7e636d0b110d73b6dcc1313363ec1faf3686d1a03a3941713"
        }
      }
    },
    "colab": {
      "name": "Exercise_7.ipynb",
      "provenance": [],
      "include_colab_link": true
    }
  },
  "cells": [
    {
      "cell_type": "markdown",
      "metadata": {
        "id": "view-in-github",
        "colab_type": "text"
      },
      "source": [
        "<a href=\"https://colab.research.google.com/github/BhuvanGowda18/Learning_Python/blob/main/Exercise_7.ipynb\" target=\"_parent\"><img src=\"https://colab.research.google.com/assets/colab-badge.svg\" alt=\"Open In Colab\"/></a>"
      ]
    },
    {
      "cell_type": "markdown",
      "metadata": {
        "id": "OLevVWXvYhAR"
      },
      "source": [
        "                                                                        Expt-07 \"FUNCTIONS\""
      ]
    },
    {
      "cell_type": "markdown",
      "metadata": {
        "id": "I7E-LWCHYhAU"
      },
      "source": [
        "Question.No:-01"
      ]
    },
    {
      "cell_type": "code",
      "metadata": {
        "id": "pSPi66cLYhAV"
      },
      "source": [
        "def RegularCustomer(amt):\n",
        "    if amt>=1000:\n",
        "        discount= amt-amt*0.05 \n",
        "    elif amt>=500 and amt<1000:\n",
        "        discount= amt-amt*0.02\n",
        "    elif amt>0 and amt<500:\n",
        "        discount= amt-amt*0.01\n",
        "    return discount"
      ],
      "execution_count": null,
      "outputs": []
    },
    {
      "cell_type": "code",
      "metadata": {
        "id": "xUgnokj9YhAd"
      },
      "source": [
        "def NewCustomer(amt):\n",
        "    if amt>=1000:\n",
        "        discount= amt-amt*0.03\n",
        "    elif amt>=500 and amt<1000:\n",
        "        discount= amt-amt*0.01\n",
        "    elif amt>0 and amt<500:\n",
        "        discount= amt-amt*0.005\n",
        "    return discount"
      ],
      "execution_count": null,
      "outputs": []
    },
    {
      "cell_type": "code",
      "metadata": {
        "id": "XtKIc_mqYhAi",
        "outputId": "aad0f8d6-b640-4308-b4f0-6403be77b31b",
        "colab": {
          "base_uri": "https://localhost:8080/",
          "height": 84
        }
      },
      "source": [
        "amt = int(input(\"Enter the Bill amount : \" ))\n",
        "cust = int(input(\"Enter 1 if regular customer or 2 if new customer : \"))\n",
        "if cust==1:\n",
        "    discount=RegularCustomer(amt)\n",
        "else:\n",
        "    discount=NewCustomer(amt)\n",
        "print(\"Bill Amount    = {0}\\nAfter Discount = {1}\".format(amt,discount))"
      ],
      "execution_count": null,
      "outputs": [
        {
          "output_type": "stream",
          "text": [
            "Enter the Bill amount : 1000\n",
            "Enter 1 if regular customer or 2 if new customer : 1\n",
            "Bill Amount    = 1000\n",
            "After Discount = 950.0\n"
          ],
          "name": "stdout"
        }
      ]
    },
    {
      "cell_type": "markdown",
      "metadata": {
        "id": "dH6_nvU5YhAm"
      },
      "source": [
        "Question.No:-02"
      ]
    },
    {
      "cell_type": "code",
      "metadata": {
        "id": "BDYtciReYhAn"
      },
      "source": [
        "def TakeInput():\n",
        "  print(\"Calculator Menu :-\\n0. Quit\\n1. Add two numbers\\n2. Subtract two numbers\\n3. Multiply two numbers\\n4. Divide two numbers\")\n",
        "  val = int(input(\"Enter the operation : \"))\n",
        "  return val\n",
        "def TakeFormat():\n",
        "    Format = input(\"Enter the output format (int or float) : \")\n",
        "    return Format"
      ],
      "execution_count": null,
      "outputs": []
    },
    {
      "cell_type": "code",
      "metadata": {
        "id": "Zhx1Nw40YhAq"
      },
      "source": [
        "def AdditionOperation():\n",
        "    print(\"Addition : \")\n",
        "    a = int(input(\"Enter first value : \"))\n",
        "    b = int(input(\"Enter second value : \"))\n",
        "    Format = TakeFormat()\n",
        "    if Format=='int':\n",
        "        print(\"{0} + {1} = {2}\".format(a,b,int(a+b)))\n",
        "    else:\n",
        "        print(\"{0} + {1} = {2}\".format(a,b,float(a+b)))"
      ],
      "execution_count": null,
      "outputs": []
    },
    {
      "cell_type": "code",
      "metadata": {
        "id": "9_D4KDnsYhAv"
      },
      "source": [
        "def SubstractionOperation():\n",
        "    print(\"Substraction : \")\n",
        "    a = int(input(\"Enter first value : \"))\n",
        "    b = int(input(\"Enter second value : \"))\n",
        "    Format = TakeFormat()\n",
        "    if Format=='int':\n",
        "        print(\"{0} - {1} = {2}\".format(a,b,int(a-b)))\n",
        "    else:\n",
        "        print(\"{0} - {1} = {2}\".format(a,b,float(a-b)))"
      ],
      "execution_count": null,
      "outputs": []
    },
    {
      "cell_type": "code",
      "metadata": {
        "id": "GTJYzHr-YhA2"
      },
      "source": [
        "def MultiplyOperation():\n",
        "    print(\"Multiplication : \")\n",
        "    a = int(input(\"Enter first value : \"))\n",
        "    b = int(input(\"Enter second value : \"))\n",
        "    Format = TakeFormat()\n",
        "    if Format=='int':\n",
        "        print(\"{0} * {1} = {2}\".format(a,b,int(a*b)))\n",
        "    else:\n",
        "        print(\"{0} * {1} = {2}\".format(a,b,float(a*b)))"
      ],
      "execution_count": null,
      "outputs": []
    },
    {
      "cell_type": "code",
      "metadata": {
        "id": "qbNDSQTIYhA9"
      },
      "source": [
        "def DivisionOperation():\n",
        "    print(\"Division : \")\n",
        "    a = int(input(\"Enter first value : \"))\n",
        "    b = int(input(\"Enter second value : \"))\n",
        "    print(\"{0} / {1} = {2}\".format(a,b,float(a/b)))"
      ],
      "execution_count": null,
      "outputs": []
    },
    {
      "cell_type": "code",
      "metadata": {
        "id": "VkHN8Gf-YhBB",
        "outputId": "a81721c8-0761-45c8-b9c3-d747bc09ad69",
        "colab": {
          "base_uri": "https://localhost:8080/",
          "height": 739
        }
      },
      "source": [
        "while True:\n",
        "    val = TakeInput()\n",
        "    if val==0:\n",
        "        break\n",
        "    elif val==1 or val not in range(0,5):\n",
        "        AdditionOperation()\n",
        "    elif val==2:\n",
        "        SubstractionOperation()\n",
        "    elif val==3:\n",
        "        MultiplyOperation()\n",
        "    elif val==4:\n",
        "        DivisionOperation()\n"
      ],
      "execution_count": null,
      "outputs": [
        {
          "output_type": "stream",
          "text": [
            "Calculator Menu :-\n",
            "0. Quit\n",
            "1. Add two numbers\n",
            "2. Subtract two numbers\n",
            "3. Multiply two numbers\n",
            "4. Divide two numbers\n",
            "Enter the operation : 1\n",
            "Addition : \n",
            "Enter first value : 10\n",
            "Enter second value : 555\n",
            "Enter the output format (int or float) : int\n",
            "10 + 555 = 565\n",
            "Calculator Menu :-\n",
            "0. Quit\n",
            "1. Add two numbers\n",
            "2. Subtract two numbers\n",
            "3. Multiply two numbers\n",
            "4. Divide two numbers\n",
            "Enter the operation : 3\n",
            "Multiplication : \n",
            "Enter first value : 55\n",
            "Enter second value : 88\n",
            "Enter the output format (int or float) : float\n",
            "55 * 88 = 4840.0\n",
            "Calculator Menu :-\n",
            "0. Quit\n",
            "1. Add two numbers\n",
            "2. Subtract two numbers\n",
            "3. Multiply two numbers\n",
            "4. Divide two numbers\n",
            "Enter the operation : 6\n",
            "Addition : \n",
            "Enter first value : 45\n",
            "Enter second value : 35\n",
            "Enter the output format (int or float) : format\n",
            "45 + 35 = 80.0\n",
            "Calculator Menu :-\n",
            "0. Quit\n",
            "1. Add two numbers\n",
            "2. Subtract two numbers\n",
            "3. Multiply two numbers\n",
            "4. Divide two numbers\n",
            "Enter the operation : 0\n"
          ],
          "name": "stdout"
        }
      ]
    },
    {
      "cell_type": "markdown",
      "metadata": {
        "id": "5idOWySuYhBE"
      },
      "source": [
        "Question.No:-03"
      ]
    },
    {
      "cell_type": "code",
      "metadata": {
        "id": "bloUTLv2YhBF"
      },
      "source": [
        "def addUsers(no_of_users):\n",
        "    user={}\n",
        "    for i in range(no_of_users):\n",
        "        username = input(\"Enter the username : \")\n",
        "        password = input(\"Enter the password : \")\n",
        "        user[(username)]=password\n",
        "    return user"
      ],
      "execution_count": null,
      "outputs": []
    },
    {
      "cell_type": "code",
      "metadata": {
        "id": "uEL5l4BVYhBI"
      },
      "source": [
        "def acceptLogin(username,password):\n",
        "    if Users[(username)]==password:\n",
        "        return True\n",
        "    else:\n",
        "        return False"
      ],
      "execution_count": null,
      "outputs": []
    },
    {
      "cell_type": "code",
      "metadata": {
        "id": "A2dtItayYhBL",
        "outputId": "51f611c0-232b-4fb9-c0fb-49deab1b3d63",
        "colab": {
          "base_uri": "https://localhost:8080/",
          "height": 151
        }
      },
      "source": [
        "No_of_Users = int(input(\"Enter the No.of Users : \"))\n",
        "Users = {}\n",
        "Users = addUsers(No_of_Users)\n",
        "userName = input(\"Enter the username to check : \")\n",
        "password = input(\"Enter the password to check : \")\n",
        "val = acceptLogin(userName, password)\n",
        "if val==True:\n",
        "    print(\"Correct.\")\n",
        "else:\n",
        "    print(\"InCorrect.\")"
      ],
      "execution_count": null,
      "outputs": [
        {
          "output_type": "stream",
          "text": [
            "Enter the No.of Users : 2\n",
            "Enter the username : NSR\n",
            "Enter the password : nsr123\n",
            "Enter the username : SAI\n",
            "Enter the password : sai1234\n",
            "Enter the username to check : NSR\n",
            "Enter the password to check : nsr123\n",
            "Correct.\n"
          ],
          "name": "stdout"
        }
      ]
    },
    {
      "cell_type": "markdown",
      "metadata": {
        "id": "CmoqxDzIYhBO"
      },
      "source": [
        "Question.No:-04"
      ]
    },
    {
      "cell_type": "code",
      "metadata": {
        "id": "OdNCAnDhYhBP"
      },
      "source": [
        "def ModifyInput(val):\n",
        "    n=str(val)\n",
        "    val1=0\n",
        "    for i in n:\n",
        "        if i=='9':\n",
        "            val1 = (val1+((int(i)+1)%10))\n",
        "            val1*=10\n",
        "        else:\n",
        "            val1 = (val1+(int(i)+1))\n",
        "            val1*=10\n",
        "    return int(val1/10)"
      ],
      "execution_count": null,
      "outputs": []
    },
    {
      "cell_type": "code",
      "metadata": {
        "id": "A8LiXnSBYhBT",
        "outputId": "1b40ce77-3840-4dec-d045-d0cc60c3e5bf",
        "colab": {
          "base_uri": "https://localhost:8080/",
          "height": 50
        }
      },
      "source": [
        "val1 = int(input(\"Enter the 5 digit number : \"))\n",
        "val2 = ModifyInput(val1)\n",
        "print(val2)"
      ],
      "execution_count": null,
      "outputs": [
        {
          "output_type": "stream",
          "text": [
            "Enter the 5 digit number : 12391\n",
            "23402\n"
          ],
          "name": "stdout"
        }
      ]
    }
  ]
}