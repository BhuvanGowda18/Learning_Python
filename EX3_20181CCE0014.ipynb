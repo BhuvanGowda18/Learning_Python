{
  "nbformat": 4,
  "nbformat_minor": 0,
  "metadata": {
    "colab": {
      "name": "EX3_20181CCE0014.ipynb",
      "provenance": [],
      "collapsed_sections": [],
      "authorship_tag": "ABX9TyMBO5buG0ar1EcN2NZvGNQ7",
      "include_colab_link": true
    },
    "kernelspec": {
      "name": "python3",
      "display_name": "Python 3"
    }
  },
  "cells": [
    {
      "cell_type": "markdown",
      "metadata": {
        "id": "view-in-github",
        "colab_type": "text"
      },
      "source": [
        "<a href=\"https://colab.research.google.com/github/BhuvanGowda18/Learning_Python/blob/main/EX3_20181CCE0014.ipynb\" target=\"_parent\"><img src=\"https://colab.research.google.com/assets/colab-badge.svg\" alt=\"Open In Colab\"/></a>"
      ]
    },
    {
      "cell_type": "code",
      "metadata": {
        "id": "g7d4lRnMAcqd",
        "colab": {
          "base_uri": "https://localhost:8080/",
          "height": 119
        },
        "outputId": "6f8bc12e-a5eb-4f46-8920-ffc9103fa05a"
      },
      "source": [
        " #1\n",
        "n=int(input(\"enter a number:\"))\n",
        "while True:\n",
        "  if(n==99):\n",
        "    print(\"congratulation you have won!!!\")\n",
        "    break\n",
        "  else:\n",
        "    if(n>99):\n",
        "      n=int(input(\"enter a lower number:\")) \n",
        "    else:\n",
        "      n=int(input(\"enter a larger number:\"))"
      ],
      "execution_count": null,
      "outputs": [
        {
          "output_type": "stream",
          "text": [
            "enter a number:100\n",
            "enter a lower number:25\n",
            "enter a larger number:45\n",
            "enter a larger number:45\n",
            "enter a larger number:99\n",
            "congratulation you have won!!!\n"
          ],
          "name": "stdout"
        }
      ]
    },
    {
      "cell_type": "code",
      "metadata": {
        "id": "AvbsJz-5A2XO",
        "colab": {
          "base_uri": "https://localhost:8080/",
          "height": 493
        },
        "outputId": "3adfc2da-16cc-40ed-946a-862634a7f08d"
      },
      "source": [
        " #Q2\n",
        "while True:\n",
        "  a=int(input(\"enter the value of a:\"))\n",
        "  b=int(input(\"enter the value of b:\"))\n",
        "  print(\"Calculator Menu\")\n",
        "  print(\"1.ADD\\n2.SUBTRACT\\n3.MULTIPLY\\n4.DIVISION\\n0.EXIT\")\n",
        "  n=int(input(\"enter your choice:\"))\n",
        "  if n==1:\n",
        "    print(a+b)\n",
        "  elif n==2:\n",
        "    print(a-b)\n",
        "  elif n==3:\n",
        "    print(a*b)\n",
        "  elif n==4:\n",
        "    print(a/b)\n",
        "  elif n==0:\n",
        "    break"
      ],
      "execution_count": null,
      "outputs": [
        {
          "output_type": "stream",
          "text": [
            "enter the value of a:10\n",
            "enter the value of b:12\n",
            "Calculator Menu\n",
            "1.ADD\n",
            "2.SUBTRACT\n",
            "3.MULTIPLY\n",
            "4.DIVISION\n",
            "0.EXIT\n",
            "enter your choice:4\n",
            "0.8333333333333334\n",
            "enter the value of a:0\n",
            "enter the value of b:0\n",
            "Calculator Menu\n",
            "1.ADD\n",
            "2.SUBTRACT\n",
            "3.MULTIPLY\n",
            "4.DIVISION\n",
            "0.EXIT\n",
            "enter your choice:5\n",
            "enter the value of a:5\n",
            "enter the value of b:10\n",
            "Calculator Menu\n",
            "1.ADD\n",
            "2.SUBTRACT\n",
            "3.MULTIPLY\n",
            "4.DIVISION\n",
            "0.EXIT\n",
            "enter your choice:0\n"
          ],
          "name": "stdout"
        }
      ]
    },
    {
      "cell_type": "code",
      "metadata": {
        "id": "q3uZNS7DBj13",
        "colab": {
          "base_uri": "https://localhost:8080/",
          "height": 204
        },
        "outputId": "55d8e5c1-bcc6-441a-e6f4-5e13a2199c34"
      },
      "source": [
        " #3 SQUARE_STAR_PATTERN\n",
        "s=int(input(\"enter the side of the square\"))\n",
        "for i in range(s):\n",
        "  for j in range(s):\n",
        "    print('*',end='')\n",
        "  print()"
      ],
      "execution_count": null,
      "outputs": [
        {
          "output_type": "stream",
          "text": [
            "enter the side of the square10\n",
            "**********\n",
            "**********\n",
            "**********\n",
            "**********\n",
            "**********\n",
            "**********\n",
            "**********\n",
            "**********\n",
            "**********\n",
            "**********\n"
          ],
          "name": "stdout"
        }
      ]
    },
    {
      "cell_type": "code",
      "metadata": {
        "id": "QeP_a2s1BrdR",
        "colab": {
          "base_uri": "https://localhost:8080/",
          "height": 136
        },
        "outputId": "728b5bb5-64ae-4d00-ad74-cfd85e247737"
      },
      "source": [
        "#3-RIGHT TRIANGLE STAR PATTERN\n",
        "rows=int(input(\"enter the number of rows\"))\n",
        "for i in range(1,rows+1):\n",
        "  for i in range(1,i+1):\n",
        "       print('*',end='')\n",
        "  print()"
      ],
      "execution_count": null,
      "outputs": [
        {
          "output_type": "stream",
          "text": [
            "enter the number of rows6\n",
            "*\n",
            "**\n",
            "***\n",
            "****\n",
            "*****\n",
            "******\n"
          ],
          "name": "stdout"
        }
      ]
    },
    {
      "cell_type": "code",
      "metadata": {
        "id": "HtjHRuapCZjJ",
        "colab": {
          "base_uri": "https://localhost:8080/",
          "height": 119
        },
        "outputId": "6bb63f0b-9ce4-4052-f8cd-52ac87df7c59"
      },
      "source": [
        " #3-PYRAMID STAR PATTERN\n",
        "rows=int(input(\"enter the number of rows\"))\n",
        "if rows>0: \n",
        "  for i in range(rows):\n",
        "   for s in range(rows-i):\n",
        "     print(\"\",end=\"\")\n",
        "   for j in range((i*2)-1):\n",
        "     print(\"*\",end=\"\")\n",
        "   print()"
      ],
      "execution_count": null,
      "outputs": [
        {
          "output_type": "stream",
          "text": [
            "enter the number of rows5\n",
            "\n",
            "*\n",
            "***\n",
            "*****\n",
            "*******\n"
          ],
          "name": "stdout"
        }
      ]
    },
    {
      "cell_type": "code",
      "metadata": {
        "id": "tOyyjZ7nCnz8",
        "colab": {
          "base_uri": "https://localhost:8080/",
          "height": 238
        },
        "outputId": "a9264bb7-99e0-4c99-e525-97811cbf90f8"
      },
      "source": [
        "#3-HALF DIAMOND STAR PATTERN \n",
        "rows=int(input(\"enter the number of rows\"))\n",
        "for i in range(0,rows):\n",
        "  for j in range(0,i+1):\n",
        "    print(\"*\",end='')\n",
        "  print() \n",
        "for i in range(rows,0,-1):\n",
        "  for j in range(0,i-1):\n",
        "    print(\"*\",end='')\n",
        "  print()"
      ],
      "execution_count": null,
      "outputs": [
        {
          "output_type": "stream",
          "text": [
            "enter the number of rows6\n",
            "*\n",
            "**\n",
            "***\n",
            "****\n",
            "*****\n",
            "******\n",
            "*****\n",
            "****\n",
            "***\n",
            "**\n",
            "*\n",
            "\n"
          ],
          "name": "stdout"
        }
      ]
    },
    {
      "cell_type": "code",
      "metadata": {
        "id": "meCQutcKCwzZ",
        "colab": {
          "base_uri": "https://localhost:8080/",
          "height": 204
        },
        "outputId": "e130f7fa-438c-4235-ff52-42c64159dd1b"
      },
      "source": [
        "#3 X STAR PATTERN\n",
        "n=int(input(\"enter the value of n\"))\n",
        "for i in range(n):\n",
        "  for j in range(n):\n",
        "   if(i==j or j==n-1-i):\n",
        "    print(\"*\",end='')\n",
        "   else:\n",
        "    print(\"\",end='')\n",
        "  print()"
      ],
      "execution_count": null,
      "outputs": [
        {
          "output_type": "stream",
          "text": [
            "enter the value of n10\n",
            "**\n",
            "**\n",
            "**\n",
            "**\n",
            "**\n",
            "**\n",
            "**\n",
            "**\n",
            "**\n",
            "**\n"
          ],
          "name": "stdout"
        }
      ]
    },
    {
      "cell_type": "code",
      "metadata": {
        "id": "XrNREkV4DHJJ",
        "colab": {
          "base_uri": "https://localhost:8080/",
          "height": 187
        },
        "outputId": "b504e3e4-ba76-4deb-bc91-aeb4a03f12d1"
      },
      "source": [
        " #3 DIAMOND STAR PATTERN\n",
        "num=int(input(\"enter the number of rows\"))\n",
        "for i in range(num):\n",
        "  print(''*(num-i-1)+'*'*(i+1))\n",
        "for i in range(num-1):\n",
        "  print(''*(i+1)+'*'*(num-i-1))"
      ],
      "execution_count": null,
      "outputs": [
        {
          "output_type": "stream",
          "text": [
            "enter the number of rows5\n",
            "*\n",
            "**\n",
            "***\n",
            "****\n",
            "*****\n",
            "****\n",
            "***\n",
            "**\n",
            "*\n"
          ],
          "name": "stdout"
        }
      ]
    },
    {
      "cell_type": "markdown",
      "metadata": {
        "id": "RAgJBkC9EX4J"
      },
      "source": [
        "https://colab.research.google.com/drive/1ms31_AKuxl1Q5gEOV-eDIrNN8vOqu-C6?usp=sharing"
      ]
    }
  ]
}