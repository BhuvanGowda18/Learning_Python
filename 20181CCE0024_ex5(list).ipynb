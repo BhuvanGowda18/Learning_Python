{
  "nbformat": 4,
  "nbformat_minor": 0,
  "metadata": {
    "colab": {
      "name": "20181CCE0024 ex5(list).ipynb",
      "provenance": [],
      "collapsed_sections": [],
      "include_colab_link": true
    },
    "kernelspec": {
      "name": "python3",
      "display_name": "Python 3"
    }
  },
  "cells": [
    {
      "cell_type": "markdown",
      "metadata": {
        "id": "view-in-github",
        "colab_type": "text"
      },
      "source": [
        "<a href=\"https://colab.research.google.com/github/BhuvanGowda18/Learning_Python/blob/main/20181CCE0024_ex5(list).ipynb\" target=\"_parent\"><img src=\"https://colab.research.google.com/assets/colab-badge.svg\" alt=\"Open In Colab\"/></a>"
      ]
    },
    {
      "cell_type": "code",
      "metadata": {
        "id": "WHp3SuFqyYJh",
        "outputId": "ceb8b0d1-c0be-4223-f5b8-c6f064decd48",
        "colab": {
          "base_uri": "https://localhost:8080/",
          "height": 119
        }
      },
      "source": [
        "l = []\n",
        "n = int(input(\"Enter how many people: \"))\n",
        "for i in range(n):\n",
        "    a = float(input(\"Enter the BMI: \"))\n",
        "    l.append(a)\n",
        "u = []\n",
        "n = []\n",
        "o = []\n",
        "for i in l:\n",
        "    if i>0 and i<=18.5:\n",
        "        u.append(i)\n",
        "    elif i>18.5 and i<=23:\n",
        "        n.append(i)\n",
        "    elif i>23 and i<=25:\n",
        "        o.append(i)\n",
        "print(\"Underweight\",u)\n",
        "print(\"Normal Range\",n)\n",
        "print(\"Overweight\",o)"
      ],
      "execution_count": null,
      "outputs": [
        {
          "output_type": "stream",
          "text": [
            "Enter how many people: 2\n",
            "Enter the BMI: 23\n",
            "Enter the BMI: 4\n",
            "Underweight [4.0]\n",
            "Normal Range [23.0]\n",
            "Overweight []\n"
          ],
          "name": "stdout"
        }
      ]
    },
    {
      "cell_type": "code",
      "metadata": {
        "id": "yiZUZG9qzSYC",
        "outputId": "0c090e4f-0900-4995-f6db-0bb89b114654",
        "colab": {
          "base_uri": "https://localhost:8080/",
          "height": 102
        }
      },
      "source": [
        "list1 = [2, 7, 5, 64, 14]\n",
        "even = 0\n",
        "odd = 0\n",
        "for i in list1:\n",
        "    if i%2==0:\n",
        "        even += 1\n",
        "    else:\n",
        "        odd += 1\n",
        "print(\"Number of even and odd in\",list1)\n",
        "print(\"Even = {0}, odd = {1}\".format(even,odd))\n",
        "\n",
        "\n",
        "list2 = [12, 14, 95, 3]\n",
        "even = 0\n",
        "odd = 0\n",
        "for i in list2:\n",
        "    if i%2==0:\n",
        "        even += 1\n",
        "    else:\n",
        "        odd += 1\n",
        "print(\"\\nNumber of even and odd in\",list2)\n",
        "print(\"Even = {0}, odd = {1}\".format(even,odd))\n",
        "\n",
        "\n"
      ],
      "execution_count": null,
      "outputs": [
        {
          "output_type": "stream",
          "text": [
            "Number of even and odd in [2, 7, 5, 64, 14]\n",
            "Even = 3, odd = 2\n",
            "\n",
            "Number of even and odd in [12, 14, 95, 3]\n",
            "Even = 2, odd = 2\n"
          ],
          "name": "stdout"
        }
      ]
    },
    {
      "cell_type": "code",
      "metadata": {
        "id": "3JUV_o031-pU",
        "outputId": "b69eaef0-83c5-4071-d827-cffd354a2528",
        "colab": {
          "base_uri": "https://localhost:8080/",
          "height": 265
        }
      },
      "source": [
        "#ql1 = []\n",
        "count = 0\n",
        "p = int(input(\"Enter the number of elements: \"))\n",
        "for i in range(p):\n",
        "    z = int(input(\"Enter the values: \"))\n",
        "    l1.append(z)\n",
        "key = int(input(\"Enter the value to be searched: \"))\n",
        "for j in range(len(l1)):\n",
        "     if key == l1[j]:\n",
        "        print(key,\" found at location\",j+1)\n",
        "        count += 1\n",
        "print(key,\" appears\",count,\"times in the list\")\n",
        "\n"
      ],
      "execution_count": null,
      "outputs": [
        {
          "output_type": "stream",
          "text": [
            "Enter the number of elements: 5\n",
            "Enter the values: 1\n"
          ],
          "name": "stdout"
        },
        {
          "output_type": "error",
          "ename": "NameError",
          "evalue": "ignored",
          "traceback": [
            "\u001b[0;31m---------------------------------------------------------------------------\u001b[0m",
            "\u001b[0;31mNameError\u001b[0m                                 Traceback (most recent call last)",
            "\u001b[0;32m<ipython-input-9-8fbd8796695b>\u001b[0m in \u001b[0;36m<module>\u001b[0;34m()\u001b[0m\n\u001b[1;32m      4\u001b[0m \u001b[0;32mfor\u001b[0m \u001b[0mi\u001b[0m \u001b[0;32min\u001b[0m \u001b[0mrange\u001b[0m\u001b[0;34m(\u001b[0m\u001b[0mp\u001b[0m\u001b[0;34m)\u001b[0m\u001b[0;34m:\u001b[0m\u001b[0;34m\u001b[0m\u001b[0;34m\u001b[0m\u001b[0m\n\u001b[1;32m      5\u001b[0m     \u001b[0mz\u001b[0m \u001b[0;34m=\u001b[0m \u001b[0mint\u001b[0m\u001b[0;34m(\u001b[0m\u001b[0minput\u001b[0m\u001b[0;34m(\u001b[0m\u001b[0;34m\"Enter the values: \"\u001b[0m\u001b[0;34m)\u001b[0m\u001b[0;34m)\u001b[0m\u001b[0;34m\u001b[0m\u001b[0;34m\u001b[0m\u001b[0m\n\u001b[0;32m----> 6\u001b[0;31m     \u001b[0ml1\u001b[0m\u001b[0;34m.\u001b[0m\u001b[0mappend\u001b[0m\u001b[0;34m(\u001b[0m\u001b[0mz\u001b[0m\u001b[0;34m)\u001b[0m\u001b[0;34m\u001b[0m\u001b[0;34m\u001b[0m\u001b[0m\n\u001b[0m\u001b[1;32m      7\u001b[0m \u001b[0mkey\u001b[0m \u001b[0;34m=\u001b[0m \u001b[0mint\u001b[0m\u001b[0;34m(\u001b[0m\u001b[0minput\u001b[0m\u001b[0;34m(\u001b[0m\u001b[0;34m\"Enter the value to be searched: \"\u001b[0m\u001b[0;34m)\u001b[0m\u001b[0;34m)\u001b[0m\u001b[0;34m\u001b[0m\u001b[0;34m\u001b[0m\u001b[0m\n\u001b[1;32m      8\u001b[0m \u001b[0;32mfor\u001b[0m \u001b[0mj\u001b[0m \u001b[0;32min\u001b[0m \u001b[0mrange\u001b[0m\u001b[0;34m(\u001b[0m\u001b[0mlen\u001b[0m\u001b[0;34m(\u001b[0m\u001b[0ml1\u001b[0m\u001b[0;34m)\u001b[0m\u001b[0;34m)\u001b[0m\u001b[0;34m:\u001b[0m\u001b[0;34m\u001b[0m\u001b[0;34m\u001b[0m\u001b[0m\n",
            "\u001b[0;31mNameError\u001b[0m: name 'l1' is not defined"
          ]
        }
      ]
    },
    {
      "cell_type": "code",
      "metadata": {
        "id": "f3xUOZha2eIE",
        "outputId": "2b2c4b4e-37b1-4fae-8b58-a6b1ef26fe75",
        "colab": {
          "base_uri": "https://localhost:8080/",
          "height": 136
        }
      },
      "source": [
        "#question 4\n",
        "l2 = []\n",
        "r = int(input(\"Enter the value of n: \"))\n",
        "for i in range(r):\n",
        "    q = input(\"Enter the string: \")\n",
        "    l2.append(q)\n",
        "\n",
        "s = input(\"Enter the list item to print from:\")\n",
        "if s in l2:\n",
        "    x = l2.index(s)\n",
        "    print(l2[x:])\n",
        "if s not in l2:\n",
        "    print(s,'not found')\n",
        "    print(l2)\n"
      ],
      "execution_count": null,
      "outputs": [
        {
          "output_type": "stream",
          "text": [
            "Enter the value of n: 3\n",
            "Enter the string: deeki\n",
            "Enter the string: tillu\n",
            "Enter the string: nida\n",
            "Enter the list item to print from:3\n",
            "3 not found\n",
            "['deeki', 'tillu', 'nida']\n"
          ],
          "name": "stdout"
        }
      ]
    },
    {
      "cell_type": "code",
      "metadata": {
        "id": "ZQu-4WMs20BC",
        "outputId": "1fbd062d-6df4-4be8-e580-ef5faaf2c94f",
        "colab": {
          "base_uri": "https://localhost:8080/",
          "height": 51
        }
      },
      "source": [
        "#question 5\n",
        "n=eval(input(\"enter the transactions done by user using []\"))\n",
        "s=0\n",
        "for i in range(0,len(n)):\n",
        "    if n[i][0]==\"W\":\n",
        "        s=s-n[i][1]\n",
        "    elif n[i][0]==\"D\":\n",
        "        s=s+n[i][1]\n",
        "print(\"remaining amount:\",s)\n",
        "\n",
        "\n",
        "\n"
      ],
      "execution_count": null,
      "outputs": [
        {
          "output_type": "stream",
          "text": [
            "enter the transactions done by user using [][[\"D\",200],[\"W\",100]]\n",
            "remaining amount: 100\n"
          ],
          "name": "stdout"
        }
      ]
    },
    {
      "cell_type": "code",
      "metadata": {
        "id": "GgTGB6un3RZL",
        "outputId": "24a8b0d6-f6a4-482e-897a-c65f2b462788",
        "colab": {
          "base_uri": "https://localhost:8080/",
          "height": 68
        }
      },
      "source": [
        "#question 6\n",
        "import random\n",
        "r=[]\n",
        "a=[]\n",
        "n=int(input(\"enter the size of the n value\"))\n",
        "for i in range(n):\n",
        "    v=random.randint(97,122)\n",
        "    c=chr(v)\n",
        "    r.append(c)\n",
        "for i in r:\n",
        "    s=[]\n",
        "    b=r.count(i)\n",
        "    if i not in a:\n",
        "        a.append(b)\n",
        "        a.append(i)\n",
        "print(r)\n",
        "print(a)\n",
        "\n"
      ],
      "execution_count": null,
      "outputs": [
        {
          "output_type": "stream",
          "text": [
            "enter the size of the n value3\n",
            "['k', 'c', 'e']\n",
            "[1, 'k', 1, 'c', 1, 'e']\n"
          ],
          "name": "stdout"
        }
      ]
    },
    {
      "cell_type": "code",
      "metadata": {
        "id": "ffgNoBry3dLi",
        "outputId": "f0137561-d9d2-4e6e-cd48-4439b846807f",
        "colab": {
          "base_uri": "https://localhost:8080/",
          "height": 418
        }
      },
      "source": [
        "#question 7\n",
        "automation=[]\n",
        "ashok=[]\n",
        "count=0\n",
        "n=int(input(\"enter the no of books details entering\"))\n",
        "for i in range(n):\n",
        "  book_details1=[]\n",
        "  book_title=input(\"enter the title of the book\")\n",
        "  book_details1.append(book_title)\n",
        "  book_author=input(\"enter the author of the book\")\n",
        "  book_details1.append(book_author)\n",
        "  no_of_copies=int(input(\"enter the no of copes of the book\"))\n",
        "  book_details1.append(no_of_copies)\n",
        "  book_availability=input(\"enter the book availability\")\n",
        "  book_details1.append(book_availability)\n",
        "  book_edition=int(input(\"enter the book edition\"))\n",
        "  book_details1.append(book_edition)\n",
        "  book_publisher=input(\"enter the book publisher\")\n",
        "  book_details1.append(book_publisher)\n",
        "  automation.append(book_details1)\n",
        "print(automation)\n",
        "while(1):\n",
        "    no=int(input(\"enter the book number to update details\"))\n",
        "    u=int(input(\"enter the key which to update\\n1.book title 2.book author 3.no of copies 4.book availabillity 5.book edition 6.book publisher 7.exit\"))\n",
        "    if u==1:\n",
        "        b_t=input(\"enter the new book title\")\n",
        "        automation[no-1][0]=b_t\n",
        "    elif u==2:\n",
        "        b_a=input(\"enter the new author\")\n",
        "        automation[no-1][1]=b_a\n",
        "    elif u==3:\n",
        "        b_c=int(input(\"enter the new number of copies\"))\n",
        "        automation[no-1][2]=b_c\n",
        "    elif u==4:\n",
        "        b_A=input(\"enter the new availability\")\n",
        "        automation[no-1][3]=b_A\n",
        "    elif u==5:\n",
        "        b_e=int(input(\"enter the new edition of the book\"))\n",
        "        automation[no-1][4]=b_e\n",
        "    elif u==6:\n",
        "        b_p=input(\"enter the new publisher\")\n",
        "        automation[no-1][5]=b_p\n",
        "    else:\n",
        "         break\n",
        "print(\"updated book lists\")\n",
        "print(automation)\n",
        "for i in range(len(automation)):\n",
        "     if automation[i][1]=='ashok nandev':\n",
        "        ashok.append(automation[i])\n",
        "        count+=1\n",
        "print(\"list of books of ashok nandev:\",count)\n",
        "print(ashok)\n"
      ],
      "execution_count": null,
      "outputs": [
        {
          "output_type": "stream",
          "text": [
            "enter the no of books details entering1\n",
            "enter the title of the bookdeeki\n",
            "enter the author of the bookdeeki\n",
            "enter the no of copes of the book2\n",
            "enter the book availabilityavailable\n",
            "enter the book edition3\n",
            "enter the book publisherdeeksha\n",
            "[['deeki', 'deeki', 2, 'available', 3, 'deeksha']]\n",
            "enter the book number to update details9\n",
            "enter the key which to update\n",
            "1.book title 2.book author 3.no of copies 4.book availabillity 5.book edition 6.book publisher 7.exit\n"
          ],
          "name": "stdout"
        },
        {
          "output_type": "error",
          "ename": "ValueError",
          "evalue": "ignored",
          "traceback": [
            "\u001b[0;31m---------------------------------------------------------------------------\u001b[0m",
            "\u001b[0;31mValueError\u001b[0m                                Traceback (most recent call last)",
            "\u001b[0;32m<ipython-input-16-f062361cc513>\u001b[0m in \u001b[0;36m<module>\u001b[0;34m()\u001b[0m\n\u001b[1;32m     22\u001b[0m \u001b[0;32mwhile\u001b[0m\u001b[0;34m(\u001b[0m\u001b[0;36m1\u001b[0m\u001b[0;34m)\u001b[0m\u001b[0;34m:\u001b[0m\u001b[0;34m\u001b[0m\u001b[0;34m\u001b[0m\u001b[0m\n\u001b[1;32m     23\u001b[0m     \u001b[0mno\u001b[0m\u001b[0;34m=\u001b[0m\u001b[0mint\u001b[0m\u001b[0;34m(\u001b[0m\u001b[0minput\u001b[0m\u001b[0;34m(\u001b[0m\u001b[0;34m\"enter the book number to update details\"\u001b[0m\u001b[0;34m)\u001b[0m\u001b[0;34m)\u001b[0m\u001b[0;34m\u001b[0m\u001b[0;34m\u001b[0m\u001b[0m\n\u001b[0;32m---> 24\u001b[0;31m     \u001b[0mu\u001b[0m\u001b[0;34m=\u001b[0m\u001b[0mint\u001b[0m\u001b[0;34m(\u001b[0m\u001b[0minput\u001b[0m\u001b[0;34m(\u001b[0m\u001b[0;34m\"enter the key which to update\\n1.book title 2.book author 3.no of copies 4.book availabillity 5.book edition 6.book publisher 7.exit\"\u001b[0m\u001b[0;34m)\u001b[0m\u001b[0;34m)\u001b[0m\u001b[0;34m\u001b[0m\u001b[0;34m\u001b[0m\u001b[0m\n\u001b[0m\u001b[1;32m     25\u001b[0m     \u001b[0;32mif\u001b[0m \u001b[0mu\u001b[0m\u001b[0;34m==\u001b[0m\u001b[0;36m1\u001b[0m\u001b[0;34m:\u001b[0m\u001b[0;34m\u001b[0m\u001b[0;34m\u001b[0m\u001b[0m\n\u001b[1;32m     26\u001b[0m         \u001b[0mb_t\u001b[0m\u001b[0;34m=\u001b[0m\u001b[0minput\u001b[0m\u001b[0;34m(\u001b[0m\u001b[0;34m\"enter the new book title\"\u001b[0m\u001b[0;34m)\u001b[0m\u001b[0;34m\u001b[0m\u001b[0;34m\u001b[0m\u001b[0m\n",
            "\u001b[0;31mValueError\u001b[0m: invalid literal for int() with base 10: ''"
          ]
        }
      ]
    },
    {
      "cell_type": "code",
      "metadata": {
        "id": "Qt6nypwx4H2a",
        "outputId": "4c8040b3-3761-4b65-f377-9242c1a77e62",
        "colab": {
          "base_uri": "https://localhost:8080/",
          "height": 51
        }
      },
      "source": [
        "#question 8\n",
        "n=eval(input(\"enter the integer values using []\"))\n",
        "duplicate_list=[]\n",
        "c=0\n",
        "for i in n:\n",
        "    c=n.count(i)\n",
        "    if c>1:\n",
        "        if i not in duplicate_list:\n",
        "            duplicate_list.append(i)\n",
        "print(duplicate_list)\n"
      ],
      "execution_count": null,
      "outputs": [
        {
          "output_type": "stream",
          "text": [
            "enter the integer values using [][-1,1,-1,8]\n",
            "[-1]\n"
          ],
          "name": "stdout"
        }
      ]
    },
    {
      "cell_type": "markdown",
      "metadata": {
        "id": "JepFajFH4hJR"
      },
      "source": [
        "source code:https://colab.research.google.com/drive/1s4JaeJ4xDHdBBXAjbVA_HuloKFzbiWOZ?usp=sharing"
      ]
    }
  ]
}